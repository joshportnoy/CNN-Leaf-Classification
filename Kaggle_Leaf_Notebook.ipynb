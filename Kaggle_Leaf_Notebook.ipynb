{
 "cells": [
  {
   "cell_type": "markdown",
   "metadata": {},
   "source": [
    "# Leaf Classification\n",
    "\n",
    "The Leaf Classification Kaggle Competition offers an educational image training set of 99 leaves. The training data is comprised of an image set with 16 samples of each of 99 species of leaves, as well as 3 64-attribute vectors per leaf sample. The image data is first loaded and resized to 64x64 to ensure all images are of the same size for inputting into the convolutional neural network (CNN), and class labels are encoded for ease of data processing. The proposed CNN architechture is comprised of a convolutional input layer with 5x5 kernel and 16 filters, followed by a 2x2 MaxPooling layer and a 50% dropout to regularize the model and reduce overfitting. Afterwards, two convolutional layers with 32 filters each and 3x3 kernels are used in place of a 5x5 kernel to reduce parameters and computational requirements. Afterwards, another MaxPooling layer is added to further reduce dimensionality as well as the likelihood of overfitting. The data is then passed through a flattening layer before a fully connected dense layer and the subsequent output layer with a softmax activation function. \n",
    "\n",
    "The first model is tested with a batch size of 32, 10 epochs, and samples per epoch equal to the size of the training data (768). While this model resulted in a 98% accuracy on the training set, the validation set only reached 72% accuracy. Furthermore, a graphical comparison of loss and accuracy between the training and validation sets indicates overfitting. The lack of decrease in validation loss with subsequent epochs suggests this may be due to an overly high number of samples per epoch. To address this, a second model is proposed with samples per epoch equal to the size of the training data divided by batch size (24). The loss and accuracy functions for this second model confirm that a lower number of samples per epoch reduces overfitting, with validation and training curves showing little deviation from one another. However, the low number of epochs does not appear to be enough for the loss functions level off and the model resulted in a low accuracy of only 62% for training data and 53% for the validation. The third model explores this hypothesis by increasing the number of epochs from 10 to 30, while keeping all other parameters constant. Increasing the number of epochs succeeds in increasing model accuracy for both training and validation sets to 83% and 66% respectively. While this is better performing than the previous model, it does not yet surpass the first proposed model. For further hyperparameter tuning, a fourth model is implemented to balance the benefits of a lower number of samples found in model 2, with the higher accuracy resulting from more epochs. Model 4 is deployed with 15 epochs and 278 samples per epoch, resulting in a 97% training set accuracy and an 80% accuracy on the validation set. This final model was submitted to the Kaggle competition and received a score of  1.69522 based on the logloss scoring function. To further improve this model’s performance, additional action against overfitting is suggested. While regularization parameters where explored with minimal effect, increasing the training set through image rotation and translation may prove to be very beneficial.\n"
   ]
  },
  {
   "cell_type": "code",
   "execution_count": 2,
   "metadata": {
    "execution": {
     "iopub.execute_input": "2022-03-02T01:53:15.919640Z",
     "iopub.status.busy": "2022-03-02T01:53:15.919372Z",
     "iopub.status.idle": "2022-03-02T01:53:22.615663Z",
     "shell.execute_reply": "2022-03-02T01:53:22.614895Z",
     "shell.execute_reply.started": "2022-03-02T01:53:15.919602Z"
    }
   },
   "outputs": [],
   "source": [
    "import pandas as pd\n",
    "import numpy as np\n",
    "from matplotlib import pyplot as plt\n",
    "import seaborn as sns\n",
    "import os\n",
    "import random\n",
    "\n",
    "import cv2\n",
    "from cv2 import imread, resize\n",
    "import zipfile\n",
    "\n",
    "from sklearn.pipeline import Pipeline\n",
    "from sklearn.preprocessing import MinMaxScaler,StandardScaler, LabelEncoder, LabelBinarizer\n",
    "from sklearn.model_selection import train_test_split\n",
    "from sklearn.metrics import roc_curve, auc, roc_auc_score,accuracy_score, f1_score, precision_score, recall_score\n",
    "\n",
    "from skimage.io import imread\n",
    "from skimage.transform import resize, rotate, SimilarityTransform, warp\n",
    "from skimage.filters import sobel\n",
    "import glob\n",
    "\n",
    "import tensorflow as tf\n",
    "from tensorflow import keras\n",
    "from keras.utils import np_utils\n",
    "from keras.constraints import max_norm, unit_norm\n",
    "\n",
    "from tensorflow.keras.models import Sequential\n",
    "from tensorflow.keras import regularizers\n",
    "from tensorflow.keras.layers import Activation, Dropout, Flatten, Dense, Conv2D, MaxPooling2D, InputLayer\n",
    "from tensorflow.keras.preprocessing.image import ImageDataGenerator, load_img"
   ]
  },
  {
   "cell_type": "code",
   "execution_count": 3,
   "metadata": {
    "execution": {
     "iopub.execute_input": "2022-03-02T01:53:22.617598Z",
     "iopub.status.busy": "2022-03-02T01:53:22.617104Z",
     "iopub.status.idle": "2022-03-02T01:53:24.714411Z",
     "shell.execute_reply": "2022-03-02T01:53:24.713654Z",
     "shell.execute_reply.started": "2022-03-02T01:53:22.617560Z"
    }
   },
   "outputs": [],
   "source": [
    "from tensorflow.compat.v1 import ConfigProto\n",
    "from tensorflow.compat.v1 import InteractiveSession\n",
    "\n",
    "config = ConfigProto()\n",
    "config.gpu_options.allow_growth = True\n",
    "session = InteractiveSession(config=config)"
   ]
  },
  {
   "cell_type": "code",
   "execution_count": 4,
   "metadata": {
    "execution": {
     "iopub.execute_input": "2022-03-02T01:53:24.716439Z",
     "iopub.status.busy": "2022-03-02T01:53:24.715934Z",
     "iopub.status.idle": "2022-03-02T01:53:24.809106Z",
     "shell.execute_reply": "2022-03-02T01:53:24.808158Z",
     "shell.execute_reply.started": "2022-03-02T01:53:24.716399Z"
    }
   },
   "outputs": [],
   "source": [
    "train = pd.read_csv('../input/leaf-classification/train.csv.zip', usecols=['id', 'species'])\n",
    "mtrain = train.shape[0]\n",
    "test = pd.read_csv('../input/leaf-classification/test.csv.zip', usecols = [0])\n",
    "mtest = test.shape[0]"
   ]
  },
  {
   "cell_type": "code",
   "execution_count": 5,
   "metadata": {
    "execution": {
     "iopub.execute_input": "2022-03-02T01:53:24.811896Z",
     "iopub.status.busy": "2022-03-02T01:53:24.811385Z",
     "iopub.status.idle": "2022-03-02T01:54:18.738132Z",
     "shell.execute_reply": "2022-03-02T01:54:18.737369Z",
     "shell.execute_reply.started": "2022-03-02T01:53:24.811857Z"
    }
   },
   "outputs": [],
   "source": [
    "# Resize and read images\n",
    "# Fill image to same size\n",
    "print('Loading and resizing images...')# % len(image_paths))\n",
    "img_rows, img_cols = 64, 64 #96,96 #40, 40\n",
    "output_shape = (img_rows, img_cols)\n",
    "\n",
    "train_images = np.zeros((mtrain, img_rows, img_cols))\n",
    "for i in range(mtrain):\n",
    "    image = imread('../input/leaf-classification/images.zip/images/'+str(train.id.iloc[i])+'.jpg')\n",
    "    rimage = resize(image, output_shape=output_shape)\n",
    "    train_images[i] = sobel(rimage)\n",
    "    \n",
    "test_images = np.zeros((mtest, img_rows, img_cols))\n",
    "for i in range(mtest):\n",
    "    image = imread('../input/leaf-classification/images.zip/images/'+str(test.id.iloc[i])+'.jpg')\n",
    "    rimage = resize(image, output_shape=output_shape)\n",
    "    test_images[i] = sobel(rimage)\n",
    "\n",
    "print('Train images shape: {}'.format(train_images.shape)) # 990\n",
    "print('Test images shape: {}'.format(test_images.shape)) # 594"
   ]
  },
  {
   "cell_type": "code",
   "execution_count": 6,
   "metadata": {
    "execution": {
     "iopub.execute_input": "2022-03-02T01:54:18.739802Z",
     "iopub.status.busy": "2022-03-02T01:54:18.739424Z",
     "iopub.status.idle": "2022-03-02T01:54:18.747360Z",
     "shell.execute_reply": "2022-03-02T01:54:18.746583Z",
     "shell.execute_reply.started": "2022-03-02T01:54:18.739766Z"
    }
   },
   "outputs": [],
   "source": [
    "# Target\n",
    "le = LabelEncoder()\n",
    "target = le.fit_transform(train.species)\n",
    "print(\"Target shape: {}\".format(target.shape))\n",
    "print(np.unique(target).size)\n",
    "print(target[:5])"
   ]
  },
  {
   "cell_type": "code",
   "execution_count": 7,
   "metadata": {
    "execution": {
     "iopub.execute_input": "2022-03-02T01:54:18.749171Z",
     "iopub.status.busy": "2022-03-02T01:54:18.748717Z",
     "iopub.status.idle": "2022-03-02T01:54:18.756311Z",
     "shell.execute_reply": "2022-03-02T01:54:18.755591Z",
     "shell.execute_reply.started": "2022-03-02T01:54:18.749129Z"
    }
   },
   "outputs": [],
   "source": [
    "# Scale training data\n",
    "#scaler = StandardScaler().fit(train_images)\n",
    "#train_images = scaler.transform(train_images)"
   ]
  },
  {
   "cell_type": "code",
   "execution_count": 8,
   "metadata": {
    "execution": {
     "iopub.execute_input": "2022-03-02T01:54:18.762518Z",
     "iopub.status.busy": "2022-03-02T01:54:18.757655Z",
     "iopub.status.idle": "2022-03-02T01:54:18.785198Z",
     "shell.execute_reply": "2022-03-02T01:54:18.783980Z",
     "shell.execute_reply.started": "2022-03-02T01:54:18.758169Z"
    }
   },
   "outputs": [],
   "source": [
    "# Image batch generator\n",
    "def imageGenerator(X, y, batch_size):\n",
    "    img_rows, img_cols = X.shape[1], X.shape[2]\n",
    "    resc = 0.02\n",
    "    rot = 5\n",
    "    transl = 0.01*img_rows\n",
    "    while 1: # Infinite loop\n",
    "        batchX = np.zeros((batch_size, img_rows, img_cols, 1))\n",
    "        # batch_size random indices over train images\n",
    "        batch_ids = np.random.choice(X.shape[0], batch_size)\n",
    "        for j in range(batch_ids.shape[0]): # Loop over random images\n",
    "            # Rotate around center\n",
    "            imagej = rotate(X[batch_ids[j]], angle =rot*np.random.randn())\n",
    "            # Rescale and translate\n",
    "            tf = SimilarityTransform(scale = 1 + resc*np.random.randn(1,2)[0],\n",
    "                                translation = transl*np.random.randn(1,2)[0]) \n",
    "            batchX[j] = warp(imagej, tf)\n",
    "        #batchX = np.reshape(batchX, (batch_size,-1)) # Flattened images for FNN\n",
    "        #print(batchX.shape, y[batch_ids].shape)\n",
    "        yield (batchX, y[batch_ids])"
   ]
  },
  {
   "cell_type": "markdown",
   "metadata": {},
   "source": [
    "# Model 1\n",
    "\n",
    "Model Parameters:\n",
    "Batch size: 32, epochs: 10, samples per epoch: 768, n classes: 99"
   ]
  },
  {
   "cell_type": "code",
   "execution_count": 236,
   "metadata": {
    "execution": {
     "iopub.execute_input": "2022-03-01T23:54:20.603285Z",
     "iopub.status.busy": "2022-03-01T23:54:20.602594Z",
     "iopub.status.idle": "2022-03-01T23:54:20.642435Z",
     "shell.execute_reply": "2022-03-01T23:54:20.641735Z",
     "shell.execute_reply.started": "2022-03-01T23:54:20.603239Z"
    }
   },
   "outputs": [],
   "source": [
    "# Create random train and validation sets out of 20% samples\n",
    "Xtrain, Xval, ytrain, yval = train_test_split(train_images, target, test_size=0.20,\n",
    "                                           stratify=target, random_state=14)\n",
    "\n",
    "print('\\nXtrain, ytrain shapes ' + str((Xtrain.shape, ytrain.shape)))\n",
    "print('Xval, yval shapes ' + str((Xval.shape, yval.shape)))\n",
    "\n",
    "# Reshape data as a 4-dim tensor [number samples, width, height, color channels]\n",
    "print('Reshape as 4-dim tensor (Tensorflow backend)')\n",
    "Xtrain = Xtrain.reshape(Xtrain.shape[0], img_rows, img_cols, 1) # 792\n",
    "Xval = Xval.reshape(Xval.shape[0], img_rows, img_cols, 1) # 198\n",
    "Xtest = test_images.reshape(test_images.shape[0], img_rows, img_cols, 1)\n",
    "input_shape = (img_rows, img_cols, 1)\n",
    "print(Xtrain.shape, Xval.shape, Xtest.shape)"
   ]
  },
  {
   "cell_type": "code",
   "execution_count": 237,
   "metadata": {
    "execution": {
     "iopub.execute_input": "2022-03-01T23:54:20.645027Z",
     "iopub.status.busy": "2022-03-01T23:54:20.644560Z",
     "iopub.status.idle": "2022-03-01T23:54:20.652720Z",
     "shell.execute_reply": "2022-03-01T23:54:20.651824Z",
     "shell.execute_reply.started": "2022-03-01T23:54:20.644989Z"
    }
   },
   "outputs": [],
   "source": [
    "# Convolutional Neural Network\n",
    "print('Train convolutional neural network')\n",
    "# Parameters\n",
    "# Batch size: number of training examples in one forward/backward pass. \n",
    "# The higher the batch size, the more memory space you'll need\n",
    "batch_size = 32\n",
    "# Epoch: one forward pass and one backward pass of all the training examples\n",
    "nb_epoch = 10\n",
    "n_extension = 1\n",
    "samples_per_epoch = batch_size*(n_extension*Xtrain.shape[0] // batch_size)\n",
    "#samples_per_epoch = (Xtrain.shape[0] // batch_size)\n",
    "\n",
    "# number of convolutional filters to use (a hidden layer is segmented into feature maps\n",
    "# where each unit in a feature map looks for the same feature but at different positions of the input image)\n",
    "#nb_filters = 64\n",
    "# size of pooling area for max pooling\n",
    "pool_size = (2, 2)\n",
    "# convolution kernel size\n",
    "# Number of classes\n",
    "nb_classes = np.unique(ytrain).size\n",
    "#kernel_size = (5, 5)\n",
    "print('Model Parameters:')\n",
    "print('Batch size: %d, epochs: %d, samples per epoch: %d, n classes: %d' % \n",
    "                                (batch_size, nb_epoch,samples_per_epoch, nb_classes))"
   ]
  },
  {
   "cell_type": "code",
   "execution_count": 238,
   "metadata": {
    "execution": {
     "iopub.execute_input": "2022-03-01T23:54:20.655648Z",
     "iopub.status.busy": "2022-03-01T23:54:20.654637Z",
     "iopub.status.idle": "2022-03-01T23:54:20.984160Z",
     "shell.execute_reply": "2022-03-01T23:54:20.983403Z",
     "shell.execute_reply.started": "2022-03-01T23:54:20.655616Z"
    }
   },
   "outputs": [],
   "source": [
    "# Convert class vectors to binary class matrices (one-hot encoder)\n",
    "ytrain = np_utils.to_categorical(ytrain, nb_classes)\n",
    "yval = np_utils.to_categorical(yval, nb_classes)\n",
    "\n",
    "\n",
    "# Create model\n",
    "model = Sequential()\n",
    "\n",
    "# Add hidden layers\n",
    "\n",
    "# Conv2D layer with 5x5 kernels (local weights) and 16 conv filters \n",
    "# (or feature maps), expects 2d images as inputs\n",
    "model.add(Conv2D(filters=16, kernel_size=(5,5),  padding='same', input_shape=input_shape,activation='relu',))\n",
    "model.add(MaxPooling2D(pool_size=pool_size))\n",
    "model.add(Dropout(0.5)) # Regularization method, exclude 50% units\n",
    "\n",
    "# Stack two 3x3 conv2D layers (Instead of one 5x5)\n",
    "model.add(Conv2D(filters=32, kernel_size=(3,3), padding='same', input_shape=input_shape,activation='relu',))\n",
    "model.add(Conv2D(filters=32, kernel_size=(3,3), padding='same', input_shape=input_shape,activation='relu',))\n",
    "\n",
    "# Pool2D layer, a form of non-linear down-sampling to prevent\n",
    "# overfitting and provide a form of translation invariance\n",
    "model.add(MaxPooling2D(pool_size=pool_size))\n",
    "\n",
    "# Flattenig layer, converts 2D matrix into vectors\n",
    "model.add(Flatten())\n",
    "\n",
    "# Standard fully connected layer with 128 units\n",
    "model.add(Dense(128))\n",
    "model.add(Activation('relu'))\n",
    "\n",
    "# Output layer\n",
    "model.add(Dense(nb_classes))\n",
    "model.add(Activation('softmax'))\n",
    "\n",
    "# Compile model\n",
    "model.compile(loss='categorical_crossentropy',\n",
    "              optimizer='adam', metrics=['accuracy'])"
   ]
  },
  {
   "cell_type": "code",
   "execution_count": 239,
   "metadata": {
    "execution": {
     "iopub.execute_input": "2022-03-01T23:54:20.986050Z",
     "iopub.status.busy": "2022-03-01T23:54:20.985789Z",
     "iopub.status.idle": "2022-03-01T23:57:08.478424Z",
     "shell.execute_reply": "2022-03-01T23:57:08.477713Z",
     "shell.execute_reply.started": "2022-03-01T23:54:20.986014Z"
    }
   },
   "outputs": [],
   "source": [
    "\n",
    "print('\\nTraining Keras Convolutional Neural Network...')\n",
    "# Fit model with generator\n",
    "results = model.fit_generator(imageGenerator(Xtrain, ytrain, batch_size), \n",
    "                    steps_per_epoch = samples_per_epoch,\n",
    "                    epochs=nb_epoch, verbose=1, validation_data=(Xval, yval))\n",
    "#model.fit(Xtrain, ytrain, batch_size=batch_size, epochs=nb_epoch,\n",
    "#          verbose=1, validation_data=(Xval, yval))"
   ]
  },
  {
   "cell_type": "code",
   "execution_count": 240,
   "metadata": {
    "execution": {
     "iopub.execute_input": "2022-03-01T23:57:08.480446Z",
     "iopub.status.busy": "2022-03-01T23:57:08.480192Z",
     "iopub.status.idle": "2022-03-01T23:57:08.545935Z",
     "shell.execute_reply": "2022-03-01T23:57:08.545220Z",
     "shell.execute_reply.started": "2022-03-01T23:57:08.480409Z"
    }
   },
   "outputs": [],
   "source": [
    "score = model.evaluate(Xval, yval, verbose=0)\n",
    "print('Validation loss: %0.5f' % score[0])\n",
    "print('Validation accuracy: %0.2f' % (100*score[1]))"
   ]
  },
  {
   "cell_type": "code",
   "execution_count": 241,
   "metadata": {
    "execution": {
     "iopub.execute_input": "2022-03-01T23:57:08.549721Z",
     "iopub.status.busy": "2022-03-01T23:57:08.549501Z",
     "iopub.status.idle": "2022-03-01T23:57:08.562636Z",
     "shell.execute_reply": "2022-03-01T23:57:08.561727Z",
     "shell.execute_reply.started": "2022-03-01T23:57:08.549689Z"
    }
   },
   "outputs": [],
   "source": [
    "losses = pd.DataFrame(results.history)\n",
    "\n",
    "losses.head()"
   ]
  },
  {
   "cell_type": "code",
   "execution_count": 242,
   "metadata": {
    "execution": {
     "iopub.execute_input": "2022-03-01T23:57:08.564491Z",
     "iopub.status.busy": "2022-03-01T23:57:08.564139Z",
     "iopub.status.idle": "2022-03-01T23:57:08.782042Z",
     "shell.execute_reply": "2022-03-01T23:57:08.781350Z",
     "shell.execute_reply.started": "2022-03-01T23:57:08.564426Z"
    }
   },
   "outputs": [],
   "source": [
    "#Ploting Loss Vs Val_Loss\n",
    "losses[['loss','val_loss']].plot()"
   ]
  },
  {
   "cell_type": "code",
   "execution_count": 243,
   "metadata": {
    "execution": {
     "iopub.execute_input": "2022-03-01T23:57:08.783734Z",
     "iopub.status.busy": "2022-03-01T23:57:08.783312Z",
     "iopub.status.idle": "2022-03-01T23:57:08.990322Z",
     "shell.execute_reply": "2022-03-01T23:57:08.989681Z",
     "shell.execute_reply.started": "2022-03-01T23:57:08.783695Z"
    }
   },
   "outputs": [],
   "source": [
    "#Plotting  Accutacy vs Val_accuracy\n",
    "losses[['accuracy','val_accuracy']].plot()"
   ]
  },
  {
   "cell_type": "markdown",
   "metadata": {},
   "source": [
    "Number of Epochs and steps per epoch are sufficient to train model to 98% accuracy on training set, however the model exhibits overfitting as clearly indicated in the graph comparison of training and validation loss. While the training set's loss effectively decreases to 0, the validation loss essentially fails to decrease at all here possibly as a result of too many steps per epoch."
   ]
  },
  {
   "cell_type": "markdown",
   "metadata": {},
   "source": [
    "# Model 2\n",
    "\n",
    "Reduced steps_per_epoch to Training_size/batch_size\n",
    "\n",
    "Model Parameters:\n",
    "Batch size: 32, epochs: 10, samples per epoch: 24, n classes: 99"
   ]
  },
  {
   "cell_type": "code",
   "execution_count": 244,
   "metadata": {
    "execution": {
     "iopub.execute_input": "2022-03-01T23:57:08.991903Z",
     "iopub.status.busy": "2022-03-01T23:57:08.991642Z",
     "iopub.status.idle": "2022-03-01T23:57:09.017093Z",
     "shell.execute_reply": "2022-03-01T23:57:09.016349Z",
     "shell.execute_reply.started": "2022-03-01T23:57:08.991869Z"
    }
   },
   "outputs": [],
   "source": [
    "# Create random train and validation sets out of 20% samples\n",
    "Xtrain, Xval, ytrain, yval = train_test_split(train_images, target, test_size=0.20,\n",
    "                                           stratify=target, random_state=14)\n",
    "\n",
    "print('\\nXtrain, ytrain shapes ' + str((Xtrain.shape, ytrain.shape)))\n",
    "print('Xval, yval shapes ' + str((Xval.shape, yval.shape)))\n",
    "\n",
    "# Reshape data as a 4-dim tensor [number samples, width, height, color channels]\n",
    "print('Reshape as 4-dim tensor (Tensorflow backend)')\n",
    "Xtrain = Xtrain.reshape(Xtrain.shape[0], img_rows, img_cols, 1) # 792\n",
    "Xval = Xval.reshape(Xval.shape[0], img_rows, img_cols, 1) # 198\n",
    "Xtest = test_images.reshape(test_images.shape[0], img_rows, img_cols, 1)\n",
    "input_shape = (img_rows, img_cols, 1)\n",
    "print(Xtrain.shape, Xval.shape, Xtest.shape)"
   ]
  },
  {
   "cell_type": "code",
   "execution_count": 245,
   "metadata": {
    "execution": {
     "iopub.execute_input": "2022-03-01T23:57:09.018778Z",
     "iopub.status.busy": "2022-03-01T23:57:09.018504Z",
     "iopub.status.idle": "2022-03-01T23:57:09.027333Z",
     "shell.execute_reply": "2022-03-01T23:57:09.026568Z",
     "shell.execute_reply.started": "2022-03-01T23:57:09.018741Z"
    }
   },
   "outputs": [],
   "source": [
    "# Convolutional Neural Network\n",
    "print('Train convolutional neural network')\n",
    "# Parameters\n",
    "# Batch size: number of training examples in one forward/backward pass. \n",
    "# The higher the batch size, the more memory space you'll need\n",
    "batch_size = 32\n",
    "# Epoch: one forward pass and one backward pass of all the training examples\n",
    "nb_epoch = 10\n",
    "n_extension = 1\n",
    "#samples_per_epoch = batch_size*(n_extension*Xtrain.shape[0] // batch_size)\n",
    "samples_per_epoch = Xtrain.shape[0] // batch_size\n",
    "\n",
    "# number of convolutional filters to use (a hidden layer is segmented into feature maps\n",
    "# where each unit in a feature map looks for the same feature but at different positions of the input image)\n",
    "#nb_filters = 64\n",
    "# size of pooling area for max pooling\n",
    "pool_size = (2, 2)\n",
    "# convolution kernel size\n",
    "# Number of classes\n",
    "nb_classes = np.unique(ytrain).size\n",
    "#kernel_size = (5, 5)\n",
    "print('Model Parameters:')\n",
    "print('Batch size: %d, epochs: %d, samples per epoch: %d, n classes: %d' % \n",
    "                                (batch_size, nb_epoch,samples_per_epoch, nb_classes))"
   ]
  },
  {
   "cell_type": "code",
   "execution_count": 246,
   "metadata": {
    "execution": {
     "iopub.execute_input": "2022-03-01T23:57:09.029100Z",
     "iopub.status.busy": "2022-03-01T23:57:09.028616Z",
     "iopub.status.idle": "2022-03-01T23:57:09.098472Z",
     "shell.execute_reply": "2022-03-01T23:57:09.097797Z",
     "shell.execute_reply.started": "2022-03-01T23:57:09.029058Z"
    }
   },
   "outputs": [],
   "source": [
    "# Convert class vectors to binary class matrices (one-hot encoder)\n",
    "ytrain = np_utils.to_categorical(ytrain, nb_classes)\n",
    "yval = np_utils.to_categorical(yval, nb_classes)\n",
    "\n",
    "# Create model\n",
    "model2 = Sequential()\n",
    "\n",
    "# Add hidden layers\n",
    "\n",
    "# Conv2D layer with 5x5 kernels (local weights) and 16 conv filters \n",
    "# (or feature maps), expects 2d images as inputs\n",
    "model2.add(Conv2D(filters=16, kernel_size=(5,5),kernel_initializer='he_normal',  padding='same', input_shape=input_shape,activation='relu',))\n",
    "model2.add(MaxPooling2D(pool_size=pool_size))\n",
    "model2.add(Dropout(0.5)) # Regularization method, exclude 50% units\n",
    "\n",
    "# Stack two 3x3 conv2D layers (Instead of one 5x5)\n",
    "model2.add(Conv2D(filters=32, kernel_size=(3,3), padding='same',kernel_regularizer=regularizers.l2(l=0.01), input_shape=input_shape,activation='relu',))\n",
    "model2.add(Conv2D(filters=32, kernel_size=(3,3), padding='same',kernel_regularizer=regularizers.l2(l=0.01), input_shape=input_shape,activation='relu',))\n",
    "\n",
    "# Pool2D layer, a form of non-linear down-sampling to prevent\n",
    "# overfitting and provide a form of translation invariance\n",
    "model2.add(MaxPooling2D(pool_size=pool_size))\n",
    "\n",
    "# Flattenig layer, converts 2D matrix into vectors\n",
    "model2.add(Flatten())\n",
    "\n",
    "# Standard fully connected layer with 128 units\n",
    "model2.add(Dense(128))\n",
    "model2.add(Activation('relu'))\n",
    "\n",
    "# Output layer\n",
    "model2.add(Dense(nb_classes))\n",
    "model2.add(Activation('softmax'))\n",
    "\n",
    "# Compile model\n",
    "model2.compile(loss='categorical_crossentropy',\n",
    "              optimizer='adam', metrics=['accuracy'])"
   ]
  },
  {
   "cell_type": "code",
   "execution_count": 247,
   "metadata": {
    "execution": {
     "iopub.execute_input": "2022-03-01T23:57:09.100094Z",
     "iopub.status.busy": "2022-03-01T23:57:09.099841Z",
     "iopub.status.idle": "2022-03-01T23:57:16.101983Z",
     "shell.execute_reply": "2022-03-01T23:57:16.101243Z",
     "shell.execute_reply.started": "2022-03-01T23:57:09.100060Z"
    }
   },
   "outputs": [],
   "source": [
    "\n",
    "print('\\nTraining Keras Convolutional Neural Network...')\n",
    "# Fit model with generator\n",
    "results2 = model2.fit_generator(imageGenerator(Xtrain, ytrain, batch_size), \n",
    "                    steps_per_epoch = samples_per_epoch,\n",
    "                    epochs=nb_epoch, verbose=1, validation_data=(Xval, yval))"
   ]
  },
  {
   "cell_type": "code",
   "execution_count": 248,
   "metadata": {
    "execution": {
     "iopub.execute_input": "2022-03-01T23:57:16.103737Z",
     "iopub.status.busy": "2022-03-01T23:57:16.103445Z",
     "iopub.status.idle": "2022-03-01T23:57:16.173374Z",
     "shell.execute_reply": "2022-03-01T23:57:16.172687Z",
     "shell.execute_reply.started": "2022-03-01T23:57:16.103690Z"
    }
   },
   "outputs": [],
   "source": [
    "score = model2.evaluate(Xval, yval, verbose=0)\n",
    "print('Validation loss: %0.5f' % score[0])\n",
    "print('Validation accuracy: %0.2f' % (100*score[1]))"
   ]
  },
  {
   "cell_type": "code",
   "execution_count": 249,
   "metadata": {
    "execution": {
     "iopub.execute_input": "2022-03-01T23:57:16.174886Z",
     "iopub.status.busy": "2022-03-01T23:57:16.174611Z",
     "iopub.status.idle": "2022-03-01T23:57:16.186841Z",
     "shell.execute_reply": "2022-03-01T23:57:16.185830Z",
     "shell.execute_reply.started": "2022-03-01T23:57:16.174850Z"
    }
   },
   "outputs": [],
   "source": [
    "losses = pd.DataFrame(results2.history)\n",
    "\n",
    "losses.head()"
   ]
  },
  {
   "cell_type": "code",
   "execution_count": 250,
   "metadata": {
    "execution": {
     "iopub.execute_input": "2022-03-01T23:57:16.189590Z",
     "iopub.status.busy": "2022-03-01T23:57:16.188536Z",
     "iopub.status.idle": "2022-03-01T23:57:16.400836Z",
     "shell.execute_reply": "2022-03-01T23:57:16.400123Z",
     "shell.execute_reply.started": "2022-03-01T23:57:16.189553Z"
    }
   },
   "outputs": [],
   "source": [
    "#Ploting Loss Vs Val_Loss\n",
    "losses[['loss','val_loss']].plot()"
   ]
  },
  {
   "cell_type": "code",
   "execution_count": 251,
   "metadata": {
    "execution": {
     "iopub.execute_input": "2022-03-01T23:57:16.402472Z",
     "iopub.status.busy": "2022-03-01T23:57:16.402220Z",
     "iopub.status.idle": "2022-03-01T23:57:16.600298Z",
     "shell.execute_reply": "2022-03-01T23:57:16.599528Z",
     "shell.execute_reply.started": "2022-03-01T23:57:16.402427Z"
    }
   },
   "outputs": [],
   "source": [
    "#Plotting  Accutacy vs Val_accuracy\n",
    "losses[['accuracy','val_accuracy']].plot()"
   ]
  },
  {
   "cell_type": "markdown",
   "metadata": {},
   "source": [
    "Reducing the number of steps per epoch helped to address the overfitting issue as observed in the loss graphs for training and validation sets, however the overall accuracy for training and validation sets are much lower than in the previous model."
   ]
  },
  {
   "cell_type": "markdown",
   "metadata": {},
   "source": [
    "# Model 3\n",
    "\n",
    "Increase number of epochs since last model's loss did not appear to converge yet.\n",
    "\n",
    "Model Parameters:\n",
    "Batch size: 32, epochs: 30, samples per epoch: 24, n classes: 99"
   ]
  },
  {
   "cell_type": "code",
   "execution_count": 252,
   "metadata": {
    "execution": {
     "iopub.execute_input": "2022-03-01T23:57:16.601772Z",
     "iopub.status.busy": "2022-03-01T23:57:16.601501Z",
     "iopub.status.idle": "2022-03-01T23:57:16.626061Z",
     "shell.execute_reply": "2022-03-01T23:57:16.625348Z",
     "shell.execute_reply.started": "2022-03-01T23:57:16.601737Z"
    }
   },
   "outputs": [],
   "source": [
    "# Create random train and validation sets out of 20% samples\n",
    "Xtrain, Xval, ytrain, yval = train_test_split(train_images, target, test_size=0.20,\n",
    "                                           stratify=target, random_state=14)\n",
    "\n",
    "print('\\nXtrain, ytrain shapes ' + str((Xtrain.shape, ytrain.shape)))\n",
    "print('Xval, yval shapes ' + str((Xval.shape, yval.shape)))\n",
    "\n",
    "# Reshape data as a 4-dim tensor [number samples, width, height, color channels]\n",
    "print('Reshape as 4-dim tensor (Tensorflow backend)')\n",
    "Xtrain = Xtrain.reshape(Xtrain.shape[0], img_rows, img_cols, 1) # 792\n",
    "Xval = Xval.reshape(Xval.shape[0], img_rows, img_cols, 1) # 198\n",
    "Xtest = test_images.reshape(test_images.shape[0], img_rows, img_cols, 1)\n",
    "input_shape = (img_rows, img_cols, 1)\n",
    "print(Xtrain.shape, Xval.shape, Xtest.shape)"
   ]
  },
  {
   "cell_type": "code",
   "execution_count": 253,
   "metadata": {
    "execution": {
     "iopub.execute_input": "2022-03-01T23:57:16.627707Z",
     "iopub.status.busy": "2022-03-01T23:57:16.627430Z",
     "iopub.status.idle": "2022-03-01T23:57:16.634885Z",
     "shell.execute_reply": "2022-03-01T23:57:16.633922Z",
     "shell.execute_reply.started": "2022-03-01T23:57:16.627651Z"
    }
   },
   "outputs": [],
   "source": [
    "# Convolutional Neural Network\n",
    "print('Train convolutional neural network')\n",
    "# Parameters\n",
    "# Batch size: number of training examples in one forward/backward pass. \n",
    "# The higher the batch size, the more memory space you'll need\n",
    "batch_size = 32\n",
    "# Epoch: one forward pass and one backward pass of all the training examples\n",
    "nb_epoch = 30\n",
    "n_extension = 1\n",
    "#samples_per_epoch = batch_size*(n_extension*Xtrain.shape[0] // batch_size)\n",
    "samples_per_epoch = Xtrain.shape[0] // batch_size\n",
    "\n",
    "# number of convolutional filters to use (a hidden layer is segmented into feature maps\n",
    "# where each unit in a feature map looks for the same feature but at different positions of the input image)\n",
    "#nb_filters = 64\n",
    "# size of pooling area for max pooling\n",
    "pool_size = (2, 2)\n",
    "# convolution kernel size\n",
    "# Number of classes\n",
    "nb_classes = np.unique(ytrain).size\n",
    "#kernel_size = (5, 5)\n",
    "print('Model Parameters:')\n",
    "print('Batch size: %d, epochs: %d, samples per epoch: %d, n classes: %d' % \n",
    "                                (batch_size, nb_epoch,samples_per_epoch, nb_classes))"
   ]
  },
  {
   "cell_type": "code",
   "execution_count": 254,
   "metadata": {
    "execution": {
     "iopub.execute_input": "2022-03-01T23:57:16.636882Z",
     "iopub.status.busy": "2022-03-01T23:57:16.636589Z",
     "iopub.status.idle": "2022-03-01T23:57:16.706127Z",
     "shell.execute_reply": "2022-03-01T23:57:16.705475Z",
     "shell.execute_reply.started": "2022-03-01T23:57:16.636845Z"
    }
   },
   "outputs": [],
   "source": [
    "# Convert class vectors to binary class matrices (one-hot encoder)\n",
    "ytrain = np_utils.to_categorical(ytrain, nb_classes)\n",
    "yval = np_utils.to_categorical(yval, nb_classes)\n",
    "\n",
    "# Create model\n",
    "model3 = Sequential()\n",
    "\n",
    "# Add hidden layers\n",
    "\n",
    "# Conv2D layer with 5x5 kernels (local weights) and 16 conv filters \n",
    "# (or feature maps), expects 2d images as inputs\n",
    "model3.add(Conv2D(filters=16, kernel_size=(5,5),  padding='same', input_shape=input_shape,activation='relu',))\n",
    "model3.add(MaxPooling2D(pool_size=pool_size))\n",
    "model3.add(Dropout(0.5)) # Regularization method, exclude 50% units\n",
    "\n",
    "# Stack two 3x3 conv2D layers (Instead of one 5x5)\n",
    "model3.add(Conv2D(filters=32, kernel_size=(3,3), padding='same',kernel_constraint=max_norm(3), bias_constraint=max_norm(3), input_shape=input_shape,activation='relu',))\n",
    "model3.add(Conv2D(filters=32, kernel_size=(3,3), padding='same',kernel_constraint=max_norm(3), bias_constraint=max_norm(3), input_shape=input_shape,activation='relu',))\n",
    "\n",
    "# Pool2D layer, a form of non-linear down-sampling to prevent\n",
    "# overfitting and provide a form of translation invariance\n",
    "model3.add(MaxPooling2D(pool_size=pool_size))\n",
    "\n",
    "# Flattenig layer, converts 2D matrix into vectors\n",
    "model3.add(Flatten())\n",
    "\n",
    "# Standard fully connected layer with 128 units\n",
    "model3.add(Dense(128))\n",
    "model3.add(Activation('relu'))\n",
    "\n",
    "# Output layer\n",
    "model3.add(Dense(nb_classes))\n",
    "model3.add(Activation('softmax'))\n",
    "\n",
    "# Compile model\n",
    "model3.compile(loss='categorical_crossentropy',\n",
    "              optimizer='adam', metrics=['accuracy'])"
   ]
  },
  {
   "cell_type": "code",
   "execution_count": 255,
   "metadata": {
    "execution": {
     "iopub.execute_input": "2022-03-01T23:57:16.707648Z",
     "iopub.status.busy": "2022-03-01T23:57:16.707384Z",
     "iopub.status.idle": "2022-03-01T23:57:37.728416Z",
     "shell.execute_reply": "2022-03-01T23:57:37.727503Z",
     "shell.execute_reply.started": "2022-03-01T23:57:16.707614Z"
    }
   },
   "outputs": [],
   "source": [
    "print('\\nTraining Keras Convolutional Neural Network...')\n",
    "# Fit model with generator\n",
    "results3 = model3.fit_generator(imageGenerator(Xtrain, ytrain, batch_size), \n",
    "                    steps_per_epoch = samples_per_epoch,\n",
    "                    epochs=nb_epoch, verbose=1, validation_data=(Xval, yval))"
   ]
  },
  {
   "cell_type": "code",
   "execution_count": 256,
   "metadata": {
    "execution": {
     "iopub.execute_input": "2022-03-01T23:57:37.730852Z",
     "iopub.status.busy": "2022-03-01T23:57:37.730451Z",
     "iopub.status.idle": "2022-03-01T23:57:37.802757Z",
     "shell.execute_reply": "2022-03-01T23:57:37.802018Z",
     "shell.execute_reply.started": "2022-03-01T23:57:37.730784Z"
    }
   },
   "outputs": [],
   "source": [
    "score = model3.evaluate(Xval, yval, verbose=0)\n",
    "print('Validation loss: %0.5f' % score[0])\n",
    "print('Validation accuracy: %0.2f' % (100*score[1]))"
   ]
  },
  {
   "cell_type": "code",
   "execution_count": 257,
   "metadata": {
    "execution": {
     "iopub.execute_input": "2022-03-01T23:57:37.804419Z",
     "iopub.status.busy": "2022-03-01T23:57:37.804169Z",
     "iopub.status.idle": "2022-03-01T23:57:37.815727Z",
     "shell.execute_reply": "2022-03-01T23:57:37.814732Z",
     "shell.execute_reply.started": "2022-03-01T23:57:37.804384Z"
    }
   },
   "outputs": [],
   "source": [
    "losses = pd.DataFrame(results3.history)\n",
    "losses.head()"
   ]
  },
  {
   "cell_type": "code",
   "execution_count": 258,
   "metadata": {
    "execution": {
     "iopub.execute_input": "2022-03-01T23:57:37.817952Z",
     "iopub.status.busy": "2022-03-01T23:57:37.817395Z",
     "iopub.status.idle": "2022-03-01T23:57:38.046530Z",
     "shell.execute_reply": "2022-03-01T23:57:38.045848Z",
     "shell.execute_reply.started": "2022-03-01T23:57:37.817886Z"
    }
   },
   "outputs": [],
   "source": [
    "#Ploting Loss Vs Val_Loss\n",
    "losses[['loss','val_loss']].plot()"
   ]
  },
  {
   "cell_type": "code",
   "execution_count": 259,
   "metadata": {
    "execution": {
     "iopub.execute_input": "2022-03-01T23:57:38.048174Z",
     "iopub.status.busy": "2022-03-01T23:57:38.047912Z",
     "iopub.status.idle": "2022-03-01T23:57:38.265261Z",
     "shell.execute_reply": "2022-03-01T23:57:38.264565Z",
     "shell.execute_reply.started": "2022-03-01T23:57:38.048138Z"
    }
   },
   "outputs": [],
   "source": [
    "#Plotting  Accutacy vs Val_accuracy\n",
    "losses[['accuracy','val_accuracy']].plot()"
   ]
  },
  {
   "cell_type": "markdown",
   "metadata": {},
   "source": [
    "Increasing number of epochs successfully increases accuracy score for both training and validation sets. The curves of loss and accuracy for training and validation appear to diverge after about 7 epochs, with the validation set leveling off around 65% accuracy."
   ]
  },
  {
   "cell_type": "markdown",
   "metadata": {},
   "source": [
    "# Model 4"
   ]
  },
  {
   "cell_type": "markdown",
   "metadata": {},
   "source": [
    "Balances between the accuracy and fitting of models 2 and 3.\n",
    "\n",
    "Model Parameters:\n",
    "Batch size: 32, epochs: 15, samples per epoch: 278, n classes: 99"
   ]
  },
  {
   "cell_type": "code",
   "execution_count": 280,
   "metadata": {
    "execution": {
     "iopub.execute_input": "2022-03-02T00:11:24.225500Z",
     "iopub.status.busy": "2022-03-02T00:11:24.225178Z",
     "iopub.status.idle": "2022-03-02T00:11:24.251191Z",
     "shell.execute_reply": "2022-03-02T00:11:24.250357Z",
     "shell.execute_reply.started": "2022-03-02T00:11:24.225467Z"
    }
   },
   "outputs": [],
   "source": [
    "# Create random train and validation sets out of 10% samples\n",
    "Xtrain, Xval, ytrain, yval = train_test_split(train_images, target, test_size=0.10,\n",
    "                                           stratify=target, random_state=14)\n",
    "\n",
    "#print('\\nXtrain, ytrain shapes ' + str((Xtrain.shape, ytrain.shape)))\n",
    "#print('Xval, yval shapes ' + str((Xval.shape, yval.shape)))\n",
    "\n",
    "# Reshape data as a 4-dim tensor [number samples, width, height, color channels]\n",
    "print('Reshape as 4-dim tensor (Tensorflow backend)')\n",
    "Xtrain = Xtrain.reshape(Xtrain.shape[0], img_rows, img_cols, 1) # 792\n",
    "Xval = Xval.reshape(Xval.shape[0], img_rows, img_cols, 1) # 198\n",
    "Xtest = test_images.reshape(test_images.shape[0], img_rows, img_cols, 1)\n",
    "input_shape = (img_rows, img_cols, 1)\n",
    "print(Xtrain.shape, Xval.shape, Xtest.shape)"
   ]
  },
  {
   "cell_type": "code",
   "execution_count": 281,
   "metadata": {
    "execution": {
     "iopub.execute_input": "2022-03-02T00:11:25.969220Z",
     "iopub.status.busy": "2022-03-02T00:11:25.968640Z",
     "iopub.status.idle": "2022-03-02T00:11:25.977225Z",
     "shell.execute_reply": "2022-03-02T00:11:25.976474Z",
     "shell.execute_reply.started": "2022-03-02T00:11:25.969180Z"
    }
   },
   "outputs": [],
   "source": [
    "# Convolutional Neural Network\n",
    "print('Train convolutional neural network')\n",
    "# Parameters\n",
    "# Batch size: number of training examples in one forward/backward pass. \n",
    "# The higher the batch size, the more memory space you'll need\n",
    "batch_size = 32\n",
    "# Epoch: one forward pass and one backward pass of all the training examples\n",
    "nb_epoch = 15\n",
    "n_extension = 10\n",
    "#samples_per_epoch = batch_size*(n_extension*Xtrain.shape[0] // batch_size)\n",
    "samples_per_epoch = n_extension*Xtrain.shape[0] // batch_size\n",
    "\n",
    "# number of convolutional filters to use (a hidden layer is segmented into feature maps\n",
    "# where each unit in a feature map looks for the same feature but at different positions of the input image)\n",
    "#nb_filters = 64\n",
    "# size of pooling area for max pooling\n",
    "pool_size = (2, 2)\n",
    "# convolution kernel size\n",
    "# Number of classes\n",
    "nb_classes = np.unique(ytrain).size\n",
    "#kernel_size = (5, 5)\n",
    "print('Model Parameters:')\n",
    "print('Batch size: %d, epochs: %d, samples per epoch: %d, n classes: %d' % \n",
    "                                (batch_size, nb_epoch,samples_per_epoch, nb_classes))"
   ]
  },
  {
   "cell_type": "code",
   "execution_count": 282,
   "metadata": {
    "execution": {
     "iopub.execute_input": "2022-03-02T00:11:27.702391Z",
     "iopub.status.busy": "2022-03-02T00:11:27.701602Z",
     "iopub.status.idle": "2022-03-02T00:11:27.778839Z",
     "shell.execute_reply": "2022-03-02T00:11:27.778089Z",
     "shell.execute_reply.started": "2022-03-02T00:11:27.702349Z"
    }
   },
   "outputs": [],
   "source": [
    "# Convert class vectors to binary class matrices (one-hot encoder)\n",
    "ytrain = np_utils.to_categorical(ytrain, nb_classes)\n",
    "yval = np_utils.to_categorical(yval, nb_classes)\n",
    "\n",
    "# Create model\n",
    "model4 = Sequential()\n",
    "\n",
    "# Add hidden layers\n",
    "\n",
    "# Conv2D layer with 5x5 kernels (local weights) and 16 conv filters \n",
    "# (or feature maps), expects 2d images as inputs\n",
    "model4.add(Conv2D(filters=16, kernel_size=(5,5),  padding='same', input_shape=input_shape,activation='relu',))\n",
    "model4.add(MaxPooling2D(pool_size=pool_size))\n",
    "model4.add(Dropout(0.5)) # Regularization method, exclude 50% units\n",
    "\n",
    "# Stack two 3x3 conv2D layers (Instead of one 5x5)\n",
    "model4.add(Conv2D(filters=32, kernel_size=(3,3), padding='same',kernel_constraint=max_norm(3), bias_constraint=max_norm(3), input_shape=input_shape,activation='relu',))\n",
    "model4.add(Conv2D(filters=32, kernel_size=(3,3), padding='same',kernel_constraint=max_norm(3), bias_constraint=max_norm(3), input_shape=input_shape,activation='relu',))\n",
    "\n",
    "# Pool2D layer, a form of non-linear down-sampling to prevent\n",
    "# overfitting and provide a form of translation invariance\n",
    "model4.add(MaxPooling2D(pool_size=pool_size))\n",
    "\n",
    "# Flattenig layer, converts 2D matrix into vectors\n",
    "model4.add(Flatten())\n",
    "\n",
    "# Standard fully connected layer with 128 units\n",
    "model4.add(Dense(128))\n",
    "model4.add(Activation('relu'))\n",
    "\n",
    "# Output layer\n",
    "model4.add(Dense(nb_classes))\n",
    "model4.add(Activation('softmax'))\n",
    "\n",
    "# Compile model\n",
    "model4.compile(loss='categorical_crossentropy',\n",
    "              optimizer='adam', metrics=['accuracy'])"
   ]
  },
  {
   "cell_type": "code",
   "execution_count": 283,
   "metadata": {
    "execution": {
     "iopub.execute_input": "2022-03-02T00:11:31.865549Z",
     "iopub.status.busy": "2022-03-02T00:11:31.865276Z",
     "iopub.status.idle": "2022-03-02T00:13:05.850605Z",
     "shell.execute_reply": "2022-03-02T00:13:05.849877Z",
     "shell.execute_reply.started": "2022-03-02T00:11:31.865518Z"
    }
   },
   "outputs": [],
   "source": [
    "print('\\nTraining Keras Convolutional Neural Network...')\n",
    "# Fit model with generator\n",
    "results4 = model4.fit_generator(imageGenerator(Xtrain, ytrain, batch_size), \n",
    "                    steps_per_epoch = samples_per_epoch,\n",
    "                    epochs=nb_epoch, verbose=1, validation_data=(Xval, yval))"
   ]
  },
  {
   "cell_type": "code",
   "execution_count": 284,
   "metadata": {
    "execution": {
     "iopub.execute_input": "2022-03-02T00:13:22.542083Z",
     "iopub.status.busy": "2022-03-02T00:13:22.538855Z",
     "iopub.status.idle": "2022-03-02T00:13:22.646281Z",
     "shell.execute_reply": "2022-03-02T00:13:22.644301Z",
     "shell.execute_reply.started": "2022-03-02T00:13:22.542034Z"
    }
   },
   "outputs": [],
   "source": [
    "score = model4.evaluate(Xval, yval, verbose=0)\n",
    "print('Validation loss: %0.5f' % score[0])\n",
    "print('Validation accuracy: %0.2f' % (100*score[1]))"
   ]
  },
  {
   "cell_type": "code",
   "execution_count": 285,
   "metadata": {
    "execution": {
     "iopub.execute_input": "2022-03-02T00:13:24.899437Z",
     "iopub.status.busy": "2022-03-02T00:13:24.899154Z",
     "iopub.status.idle": "2022-03-02T00:13:24.910802Z",
     "shell.execute_reply": "2022-03-02T00:13:24.909912Z",
     "shell.execute_reply.started": "2022-03-02T00:13:24.899406Z"
    }
   },
   "outputs": [],
   "source": [
    "losses = pd.DataFrame(results4.history)\n",
    "losses.head()"
   ]
  },
  {
   "cell_type": "code",
   "execution_count": 286,
   "metadata": {
    "execution": {
     "iopub.execute_input": "2022-03-02T00:13:33.142198Z",
     "iopub.status.busy": "2022-03-02T00:13:33.141607Z",
     "iopub.status.idle": "2022-03-02T00:13:33.364477Z",
     "shell.execute_reply": "2022-03-02T00:13:33.363801Z",
     "shell.execute_reply.started": "2022-03-02T00:13:33.142161Z"
    }
   },
   "outputs": [],
   "source": [
    "#Ploting Loss Vs Val_Loss\n",
    "losses[['loss','val_loss']].plot()"
   ]
  },
  {
   "cell_type": "code",
   "execution_count": 287,
   "metadata": {
    "execution": {
     "iopub.execute_input": "2022-03-02T00:13:35.454530Z",
     "iopub.status.busy": "2022-03-02T00:13:35.454230Z",
     "iopub.status.idle": "2022-03-02T00:13:35.687335Z",
     "shell.execute_reply": "2022-03-02T00:13:35.686512Z",
     "shell.execute_reply.started": "2022-03-02T00:13:35.454498Z"
    }
   },
   "outputs": [],
   "source": [
    "#Plotting  Accutacy vs Val_accuracy\n",
    "losses[['accuracy','val_accuracy']].plot()"
   ]
  },
  {
   "cell_type": "markdown",
   "metadata": {},
   "source": [
    "Successfully balances Model2 and Model3 by reducing the overfitting observed in Model2 with decreased steps per epoch, while also increasing accuracy with a greater number of epochs."
   ]
  },
  {
   "cell_type": "code",
   "execution_count": 268,
   "metadata": {
    "execution": {
     "iopub.execute_input": "2022-03-02T00:00:01.359379Z",
     "iopub.status.busy": "2022-03-02T00:00:01.359181Z",
     "iopub.status.idle": "2022-03-02T00:00:01.591232Z",
     "shell.execute_reply": "2022-03-02T00:00:01.590532Z",
     "shell.execute_reply.started": "2022-03-02T00:00:01.359354Z"
    }
   },
   "outputs": [],
   "source": [
    "# Test predictions\n",
    "print('Test predictions...')\n",
    "ids = test.id\n",
    "preds = model4.predict(Xtest)\n",
    "\n",
    "# Submit\n",
    "submission = pd.DataFrame(preds,index=ids,columns=le.classes_)\n",
    "submission.to_csv('Leaf_Predictions_CNN_model4.csv')\n",
    "submission.head()"
   ]
  },
  {
   "cell_type": "markdown",
   "metadata": {},
   "source": [
    "## Final Model Prediction & Submission"
   ]
  },
  {
   "cell_type": "code",
   "execution_count": 273,
   "metadata": {
    "execution": {
     "iopub.execute_input": "2022-03-02T00:03:49.051368Z",
     "iopub.status.busy": "2022-03-02T00:03:49.050578Z",
     "iopub.status.idle": "2022-03-02T00:03:49.057412Z",
     "shell.execute_reply": "2022-03-02T00:03:49.055922Z",
     "shell.execute_reply.started": "2022-03-02T00:03:49.051325Z"
    }
   },
   "outputs": [],
   "source": [
    "Xtrain, ytrain = train_images, target\n",
    "#Xval, yval = Xtrain, ytrain # Bigger validation set\n",
    "print('\\nXtrain, ytrain shapes ' + str((Xtrain.shape, ytrain.shape)))\n",
    "#print('Xval, yval shapes ' + str((Xval.shape, yval.shape)))"
   ]
  },
  {
   "cell_type": "code",
   "execution_count": 274,
   "metadata": {
    "execution": {
     "iopub.execute_input": "2022-03-02T00:03:49.059818Z",
     "iopub.status.busy": "2022-03-02T00:03:49.058918Z",
     "iopub.status.idle": "2022-03-02T00:03:49.071381Z",
     "shell.execute_reply": "2022-03-02T00:03:49.070585Z",
     "shell.execute_reply.started": "2022-03-02T00:03:49.059775Z"
    }
   },
   "outputs": [],
   "source": [
    "# Reshape data as a 4-dim tensor [number samples, width, height, color channels]\n",
    "print('Reshape as 4-dim tensor (Tensorflow backend)')\n",
    "Xtrain = Xtrain.reshape(Xtrain.shape[0], img_rows, img_cols, 1) # 792\n",
    "#Xval = Xval.reshape(Xval.shape[0], img_rows, img_cols, 1) # 198\n",
    "Xtest = test_images.reshape(test_images.shape[0], img_rows, img_cols, 1)\n",
    "input_shape = (img_rows, img_cols, 1)\n",
    "#print(Xtrain.shape, Xval.shape, Xtest.shape)\n",
    "print(Xtrain.shape, Xtest.shape)"
   ]
  },
  {
   "cell_type": "code",
   "execution_count": 275,
   "metadata": {
    "execution": {
     "iopub.execute_input": "2022-03-02T00:03:49.074046Z",
     "iopub.status.busy": "2022-03-02T00:03:49.073472Z",
     "iopub.status.idle": "2022-03-02T00:03:49.082584Z",
     "shell.execute_reply": "2022-03-02T00:03:49.081697Z",
     "shell.execute_reply.started": "2022-03-02T00:03:49.074009Z"
    }
   },
   "outputs": [],
   "source": [
    "# Convolutional Neural Network\n",
    "print('Train convolutional neural network')\n",
    "# Parameters\n",
    "# Batch size: number of training examples in one forward/backward pass. \n",
    "# The higher the batch size, the more memory space you'll need\n",
    "batch_size = 32\n",
    "# Epoch: one forward pass and one backward pass of all the training examples\n",
    "nb_epoch = 15\n",
    "n_extension = 10\n",
    "#samples_per_epoch = batch_size*(n_extension*Xtrain.shape[0] // batch_size)\n",
    "samples_per_epoch = n_extension*Xtrain.shape[0] // batch_size\n",
    "\n",
    "# number of convolutional filters to use (a hidden layer is segmented into feature maps\n",
    "# where each unit in a feature map looks for the same feature but at different positions of the input image)\n",
    "#nb_filters = 64\n",
    "# size of pooling area for max pooling\n",
    "pool_size = (2, 2)\n",
    "# convolution kernel size\n",
    "# Number of classes\n",
    "nb_classes = np.unique(ytrain).size\n",
    "#kernel_size = (5, 5)\n",
    "print('Model Parameters:')\n",
    "print('Batch size: %d, epochs: %d, samples per epoch: %d, n classes: %d' % \n",
    "                                (batch_size, nb_epoch,samples_per_epoch, nb_classes))"
   ]
  },
  {
   "cell_type": "code",
   "execution_count": 276,
   "metadata": {
    "execution": {
     "iopub.execute_input": "2022-03-02T00:03:49.084886Z",
     "iopub.status.busy": "2022-03-02T00:03:49.083970Z",
     "iopub.status.idle": "2022-03-02T00:03:49.153526Z",
     "shell.execute_reply": "2022-03-02T00:03:49.152845Z",
     "shell.execute_reply.started": "2022-03-02T00:03:49.084848Z"
    }
   },
   "outputs": [],
   "source": [
    "# Convert class vectors to binary class matrices (one-hot encoder)\n",
    "ytrain = np_utils.to_categorical(ytrain, nb_classes)\n",
    "yval = np_utils.to_categorical(yval, nb_classes)\n",
    "\n",
    "\n",
    "# Create model\n",
    "final_model = Sequential()\n",
    "\n",
    "# Add hidden layers\n",
    "\n",
    "# Conv2D layer with 5x5 kernels (local weights) and 16 conv filters \n",
    "# (or feature maps), expects 2d images as inputs\n",
    "final_model.add(Conv2D(filters=16, kernel_size=(5,5),  padding='same', input_shape=input_shape,activation='relu',))\n",
    "final_model.add(MaxPooling2D(pool_size=pool_size))\n",
    "final_model.add(Dropout(0.5)) # Regularization method, exclude 50% units\n",
    "\n",
    "# Stack two 3x3 conv2D layers (Instead of one 5x5)\n",
    "final_model.add(Conv2D(filters=32, kernel_size=(3,3), padding='same', input_shape=input_shape,activation='relu',))\n",
    "final_model.add(Conv2D(filters=32, kernel_size=(3,3), padding='same', input_shape=input_shape,activation='relu',))\n",
    "\n",
    "# Pool2D layer, a form of non-linear down-sampling to prevent\n",
    "# overfitting and provide a form of translation invariance\n",
    "final_model.add(MaxPooling2D(pool_size=pool_size))\n",
    "\n",
    "# Flattenig layer, converts 2D matrix into vectors\n",
    "final_model.add(Flatten())\n",
    "\n",
    "# Standard fully connected layer with 128 units\n",
    "final_model.add(Dense(128))\n",
    "final_model.add(Activation('relu'))\n",
    "\n",
    "# Output layer\n",
    "final_model.add(Dense(nb_classes))\n",
    "final_model.add(Activation('softmax'))\n",
    "\n",
    "# Compile model\n",
    "final_model.compile(loss='categorical_crossentropy',\n",
    "              optimizer='adam', metrics=['accuracy'])"
   ]
  },
  {
   "cell_type": "code",
   "execution_count": 277,
   "metadata": {
    "execution": {
     "iopub.execute_input": "2022-03-02T00:03:49.156937Z",
     "iopub.status.busy": "2022-03-02T00:03:49.156749Z",
     "iopub.status.idle": "2022-03-02T00:05:30.659810Z",
     "shell.execute_reply": "2022-03-02T00:05:30.659063Z",
     "shell.execute_reply.started": "2022-03-02T00:03:49.156914Z"
    }
   },
   "outputs": [],
   "source": [
    "\n",
    "print('\\nTraining Keras Convolutional Neural Network...')\n",
    "# Fit model with generator\n",
    "results = final_model.fit_generator(imageGenerator(Xtrain, ytrain, batch_size), \n",
    "                    steps_per_epoch = samples_per_epoch,\n",
    "                    epochs=nb_epoch, verbose=1)\n",
    "#model.fit(Xtrain, ytrain, batch_size=batch_size, epochs=nb_epoch,\n",
    "#          verbose=1, validation_data=(Xval, yval))"
   ]
  },
  {
   "cell_type": "code",
   "execution_count": 279,
   "metadata": {
    "execution": {
     "iopub.execute_input": "2022-03-02T00:06:04.286922Z",
     "iopub.status.busy": "2022-03-02T00:06:04.286137Z",
     "iopub.status.idle": "2022-03-02T00:06:04.507187Z",
     "shell.execute_reply": "2022-03-02T00:06:04.506481Z",
     "shell.execute_reply.started": "2022-03-02T00:06:04.286878Z"
    }
   },
   "outputs": [],
   "source": [
    "# Test predictions\n",
    "print('Test predictions...')\n",
    "ids = test.id\n",
    "preds = final_model.predict(Xtest)\n",
    "\n",
    "# Submit\n",
    "submission = pd.DataFrame(preds,index=ids,columns=le.classes_)\n",
    "submission.to_csv('Leaf_Predictions_CNN.csv')\n",
    "submission.head()"
   ]
  },
  {
   "attachments": {
    "0fa39886-3dd4-4bdb-8946-0b7b07fe35bb.png": {
     "image/png": "[encoded data removed]"
    }
   },
   "cell_type": "markdown",
   "metadata": {},
   "source": [
    "![final_model.png](attachment:0fa39886-3dd4-4bdb-8946-0b7b07fe35bb.png)"
   ]
  }
 ],
 "metadata": {
  "kernelspec": {
   "display_name": "Python 3 (ipykernel)",
   "language": "python",
   "name": "python3"
  },
  "language_info": {
   "codemirror_mode": {
    "name": "ipython",
    "version": 3
   },
   "file_extension": ".py",
   "mimetype": "text/x-python",
   "name": "python",
   "nbconvert_exporter": "python",
   "pygments_lexer": "ipython3",
   "version": "3.9.7"
  }
 },
 "nbformat": 4,
 "nbformat_minor": 4
}
